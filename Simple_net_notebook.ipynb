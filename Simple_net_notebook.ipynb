{
  "nbformat": 4,
  "nbformat_minor": 0,
  "metadata": {
    "colab": {
      "provenance": [],
      "gpuType": "T4"
    },
    "kernelspec": {
      "name": "python3",
      "display_name": "Python 3"
    },
    "language_info": {
      "name": "python"
    },
    "accelerator": "GPU"
  },
  "cells": [
    {
      "cell_type": "code",
      "execution_count": null,
      "metadata": {
        "id": "UegZA6H9RI9r"
      },
      "outputs": [],
      "source": [
        "import matplotlib.pyplot as plt\n",
        "from PIL import Image\n",
        "import numpy as np\n",
        "\n",
        "# Load the original image and the saliency map\n",
        "original_image_path = '/content/27.jpg'  # Update with your original image path\n",
        "saliency_map_path = '/content/27_tempsal.jpg'  # Update with your saliency map path\n",
        "\n",
        "original_image = Image.open(original_image_path)\n",
        "saliency_map = Image.open(saliency_map_path).convert('L')  # Convert saliency map to grayscale\n",
        "\n",
        "# Resize the saliency map to match the original image size if different\n",
        "if original_image.size != saliency_map.size:\n",
        "    saliency_map = saliency_map.resize(original_image.size, Image.Resampling.LANCZOS)\n",
        "\n",
        "# Convert the image data to an array for plotting\n",
        "saliency_array = np.array(saliency_map)\n",
        "\n",
        "# Determine the dpi of the figure to match the original image size\n",
        "dpi = 100\n",
        "fig_width, fig_height = original_image.size\n",
        "fig_size = (fig_width / dpi, fig_height / dpi)  # Size in inches\n",
        "\n",
        "# Create a figure with the exact size and dpi\n",
        "fig, ax = plt.subplots(figsize=fig_size, dpi=dpi)\n",
        "ax.imshow(saliency_array, cmap='hot')\n",
        "ax.axis('off')  # Hide the axis\n",
        "\n",
        "# Save the modified image without padding\n",
        "plt.subplots_adjust(left=0, right=1, top=1, bottom=0)\n",
        "plt.savefig('/content/27_tempsal.jpg', dpi=dpi)\n",
        "plt.close(fig)"
      ]
    },
    {
      "cell_type": "code",
      "source": [],
      "metadata": {
        "id": "2zkvWJJBAUK9"
      },
      "execution_count": null,
      "outputs": []
    },
    {
      "cell_type": "code",
      "source": [
        "import cv2\n",
        "import numpy as np\n",
        "\n",
        "def overlay_heatmap_on_image(original_img_path, heatmap_img_path, output_img_path):\n",
        "    # Read the original image\n",
        "    orig_image = cv2.imread(original_img_path)\n",
        "    orig_size = orig_image.shape[:2]  # Height, Width\n",
        "\n",
        "    # Read the heatmap image (assumed to be already in color)\n",
        "    overlay_heatmap = cv2.imread(heatmap_img_path)\n",
        "\n",
        "    # Resize the heatmap to match the original image size\n",
        "    overlay_heatmap = cv2.resize(overlay_heatmap, (orig_size[1], orig_size[0]))\n",
        "\n",
        "    # Overlay the heatmap on the original image\n",
        "    overlay_heatmap = cv2.applyColorMap(overlay_heatmap, cv2.COLORMAP_JET)\n",
        "    overlay_image = cv2.addWeighted(orig_image, 1, overlay_heatmap, 0.8, 0)\n",
        "\n",
        "    # Save the result\n",
        "    cv2.imwrite(output_img_path, overlay_image)\n",
        "\n",
        "# Example usage:\n",
        "original_img_path = '/content/27.jpg'\n",
        "heatmap_img_path = '/content/27_tempsal.jpg'\n",
        "output_img_path = heatmap_img_path\n",
        "\n",
        "overlay_heatmap_on_image(original_img_path, heatmap_img_path, output_img_path)\n"
      ],
      "metadata": {
        "id": "ygr56RXNAUNL"
      },
      "execution_count": null,
      "outputs": []
    },
    {
      "cell_type": "code",
      "source": [],
      "metadata": {
        "id": "Ws5pb2RWURPi"
      },
      "execution_count": null,
      "outputs": []
    },
    {
      "cell_type": "code",
      "source": [],
      "metadata": {
        "id": "gJVVs-2CH3is"
      },
      "execution_count": null,
      "outputs": []
    },
    {
      "cell_type": "code",
      "source": [],
      "metadata": {
        "id": "tq30n68OH3k2"
      },
      "execution_count": null,
      "outputs": []
    },
    {
      "cell_type": "code",
      "source": [],
      "metadata": {
        "id": "43QQwUfAH3nP"
      },
      "execution_count": null,
      "outputs": []
    },
    {
      "cell_type": "code",
      "source": [
        "!git clone https://github.com/samyak0210/saliency\n",
        "%cd saliency"
      ],
      "metadata": {
        "id": "9KhEK6ceH3p3",
        "colab": {
          "base_uri": "https://localhost:8080/"
        },
        "outputId": "773ff41c-4480-4ba1-cfef-6781f07f0f66"
      },
      "execution_count": 1,
      "outputs": [
        {
          "output_type": "stream",
          "name": "stdout",
          "text": [
            "Cloning into 'saliency'...\n",
            "remote: Enumerating objects: 156, done.\u001b[K\n",
            "remote: Counting objects: 100% (72/72), done.\u001b[K\n",
            "remote: Compressing objects: 100% (50/50), done.\u001b[K\n",
            "remote: Total 156 (delta 47), reused 36 (delta 22), pack-reused 84\u001b[K\n",
            "Receiving objects: 100% (156/156), 1.32 MiB | 5.15 MiB/s, done.\n",
            "Resolving deltas: 100% (81/81), done.\n",
            "/content/saliency\n"
          ]
        }
      ]
    },
    {
      "cell_type": "code",
      "source": [
        "!pip install -r requirements.txt"
      ],
      "metadata": {
        "colab": {
          "base_uri": "https://localhost:8080/"
        },
        "id": "KpiKwlvJCtiP",
        "outputId": "87e306e9-d7a3-440f-f604-d40d481ad20f"
      },
      "execution_count": null,
      "outputs": [
        {
          "output_type": "stream",
          "name": "stdout",
          "text": [
            "\u001b[31mERROR: Could not find a version that satisfies the requirement apturl==0.5.2 (from versions: none)\u001b[0m\u001b[31m\n",
            "\u001b[0m\u001b[31mERROR: No matching distribution found for apturl==0.5.2\u001b[0m\u001b[31m\n",
            "\u001b[0m"
          ]
        }
      ]
    },
    {
      "cell_type": "code",
      "source": [
        "!python -m pip install --upgrade pip setuptools wheel && python -m pip install lbry-libtorrent wget torf && apt install python3-libtorrent"
      ],
      "metadata": {
        "colab": {
          "base_uri": "https://localhost:8080/"
        },
        "id": "w8BQo51DF5wa",
        "outputId": "ed7d8b47-64e9-4416-95b8-cbac6207378e"
      },
      "execution_count": 2,
      "outputs": [
        {
          "output_type": "stream",
          "name": "stdout",
          "text": [
            "Requirement already satisfied: pip in /usr/local/lib/python3.10/dist-packages (23.1.2)\n",
            "Collecting pip\n",
            "  Downloading pip-24.0-py3-none-any.whl (2.1 MB)\n",
            "\u001b[2K     \u001b[90m━━━━━━━━━━━━━━━━━━━━━━━━━━━━━━━━━━━━━━━━\u001b[0m \u001b[32m2.1/2.1 MB\u001b[0m \u001b[31m14.3 MB/s\u001b[0m eta \u001b[36m0:00:00\u001b[0m\n",
            "\u001b[?25hRequirement already satisfied: setuptools in /usr/local/lib/python3.10/dist-packages (67.7.2)\n",
            "Collecting setuptools\n",
            "  Using cached setuptools-69.5.1-py3-none-any.whl (894 kB)\n",
            "Requirement already satisfied: wheel in /usr/local/lib/python3.10/dist-packages (0.43.0)\n",
            "Installing collected packages: setuptools, pip\n",
            "  Attempting uninstall: setuptools\n",
            "    Found existing installation: setuptools 67.7.2\n",
            "    Uninstalling setuptools-67.7.2:\n",
            "      Successfully uninstalled setuptools-67.7.2\n",
            "  Attempting uninstall: pip\n",
            "    Found existing installation: pip 23.1.2\n",
            "    Uninstalling pip-23.1.2:\n",
            "      Successfully uninstalled pip-23.1.2\n",
            "\u001b[31mERROR: pip's dependency resolver does not currently take into account all the packages that are installed. This behaviour is the source of the following dependency conflicts.\n",
            "ipython 7.34.0 requires jedi>=0.16, which is not installed.\u001b[0m\u001b[31m\n",
            "\u001b[0mSuccessfully installed pip-24.0 setuptools-69.5.1\n",
            "Collecting lbry-libtorrent\n",
            "  Downloading lbry_libtorrent-1.2.4-py3-none-any.whl.metadata (347 bytes)\n",
            "Collecting wget\n",
            "  Downloading wget-3.2.zip (10 kB)\n",
            "  Preparing metadata (setup.py) ... \u001b[?25l\u001b[?25hdone\n",
            "Collecting torf\n",
            "  Downloading torf-4.2.6-py3-none-any.whl.metadata (3.8 kB)\n",
            "Collecting flatbencode==0.2.* (from torf)\n",
            "  Downloading flatbencode-0.2.1.tar.gz (3.2 kB)\n",
            "  Preparing metadata (setup.py) ... \u001b[?25l\u001b[?25hdone\n",
            "Downloading lbry_libtorrent-1.2.4-py3-none-any.whl (2.4 MB)\n",
            "\u001b[2K   \u001b[90m━━━━━━━━━━━━━━━━━━━━━━━━━━━━━━━━━━━━━━━━\u001b[0m \u001b[32m2.4/2.4 MB\u001b[0m \u001b[31m26.5 MB/s\u001b[0m eta \u001b[36m0:00:00\u001b[0m\n",
            "\u001b[?25hDownloading torf-4.2.6-py3-none-any.whl (123 kB)\n",
            "\u001b[2K   \u001b[90m━━━━━━━━━━━━━━━━━━━━━━━━━━━━━━━━━━━━━━━━\u001b[0m \u001b[32m123.3/123.3 kB\u001b[0m \u001b[31m11.6 MB/s\u001b[0m eta \u001b[36m0:00:00\u001b[0m\n",
            "\u001b[?25hBuilding wheels for collected packages: wget, flatbencode\n",
            "  Building wheel for wget (setup.py) ... \u001b[?25l\u001b[?25hdone\n",
            "  Created wheel for wget: filename=wget-3.2-py3-none-any.whl size=9656 sha256=874fb9f88a8d16210d1c8c0da0583ec79a0a9d20984da6e0adf7a479652308de\n",
            "  Stored in directory: /root/.cache/pip/wheels/8b/f1/7f/5c94f0a7a505ca1c81cd1d9208ae2064675d97582078e6c769\n",
            "  Building wheel for flatbencode (setup.py) ... \u001b[?25l\u001b[?25hdone\n",
            "  Created wheel for flatbencode: filename=flatbencode-0.2.1-py3-none-any.whl size=3258 sha256=9f512dc7e8a6a075b7480fc285f697a6c77c37927ee896860bca627c3d5b3d0a\n",
            "  Stored in directory: /root/.cache/pip/wheels/89/ed/eb/b60ce338031deb20d938674e252c6de156ea9e9649bf748d50\n",
            "Successfully built wget flatbencode\n",
            "Installing collected packages: wget, lbry-libtorrent, flatbencode, torf\n",
            "Successfully installed flatbencode-0.2.1 lbry-libtorrent-1.2.4 torf-4.2.6 wget-3.2\n",
            "\u001b[33mWARNING: Running pip as the 'root' user can result in broken permissions and conflicting behaviour with the system package manager. It is recommended to use a virtual environment instead: https://pip.pypa.io/warnings/venv\u001b[0m\u001b[33m\n",
            "Reading package lists... Done\n",
            "Building dependency tree... Done\n",
            "Reading state information... Done\n",
            "The following additional packages will be installed:\n",
            "  libtorrent-rasterbar2.0\n",
            "The following NEW packages will be installed:\n",
            "  libtorrent-rasterbar2.0 python3-libtorrent\n",
            "0 upgraded, 2 newly installed, 0 to remove and 45 not upgraded.\n",
            "Need to get 2,098 kB of archives.\n",
            "After this operation, 7,907 kB of additional disk space will be used.\n",
            "Get:1 http://archive.ubuntu.com/ubuntu jammy/universe amd64 libtorrent-rasterbar2.0 amd64 2.0.5-5 [1,501 kB]\n",
            "Get:2 http://archive.ubuntu.com/ubuntu jammy/universe amd64 python3-libtorrent amd64 2.0.5-5 [597 kB]\n",
            "Fetched 2,098 kB in 3s (732 kB/s)\n",
            "Selecting previously unselected package libtorrent-rasterbar2.0:amd64.\n",
            "(Reading database ... 121752 files and directories currently installed.)\n",
            "Preparing to unpack .../libtorrent-rasterbar2.0_2.0.5-5_amd64.deb ...\n",
            "Unpacking libtorrent-rasterbar2.0:amd64 (2.0.5-5) ...\n",
            "Selecting previously unselected package python3-libtorrent.\n",
            "Preparing to unpack .../python3-libtorrent_2.0.5-5_amd64.deb ...\n",
            "Unpacking python3-libtorrent (2.0.5-5) ...\n",
            "Setting up libtorrent-rasterbar2.0:amd64 (2.0.5-5) ...\n",
            "Setting up python3-libtorrent (2.0.5-5) ...\n",
            "Processing triggers for libc-bin (2.35-0ubuntu3.4) ...\n",
            "/sbin/ldconfig.real: /usr/local/lib/libtbbbind.so.3 is not a symbolic link\n",
            "\n",
            "/sbin/ldconfig.real: /usr/local/lib/libtbbbind_2_0.so.3 is not a symbolic link\n",
            "\n",
            "/sbin/ldconfig.real: /usr/local/lib/libtbbbind_2_5.so.3 is not a symbolic link\n",
            "\n",
            "/sbin/ldconfig.real: /usr/local/lib/libtbbmalloc.so.2 is not a symbolic link\n",
            "\n",
            "/sbin/ldconfig.real: /usr/local/lib/libtbbmalloc_proxy.so.2 is not a symbolic link\n",
            "\n",
            "/sbin/ldconfig.real: /usr/local/lib/libtbb.so.12 is not a symbolic link\n",
            "\n"
          ]
        }
      ]
    },
    {
      "cell_type": "code",
      "source": [
        "import zipfile\n",
        "import os\n",
        "import libtorrent as lt\n",
        "import time\n",
        "import datetime\n",
        "import shutil\n",
        "\n",
        "params = {\n",
        "    'save_path': '/content/Torrent/',\n",
        "    'storage_mode': lt.storage_mode_t(2),\n",
        "}\n",
        "\n",
        "ses = lt.session()\n",
        "ses.listen_on(6881, 6891)\n",
        "link = input(\"Input Torrent file link or Magnet link and Press Enter: \")\n",
        "\n",
        "if link.endswith('.torrent'):\n",
        "    import wget\n",
        "    from torf import Torrent\n",
        "\n",
        "    if os.path.exists('torrent.torrent'):\n",
        "        os.remove('torrent.torrent')\n",
        "\n",
        "    wget.download(link, 'torrent.torrent')\n",
        "    t = Torrent.read('torrent.torrent')\n",
        "    link = str(t.magnet(name=True, size=False, trackers=False, tracker=False))\n",
        "\n",
        "\n",
        "print(link)\n",
        "handle = lt.add_magnet_uri(ses, link, params)\n",
        "# change the 0 to a 1 to download sequentially\n",
        "handle.set_sequential_download(0)\n",
        "ses.start_dht()\n",
        "begin = time.time()\n",
        "\n",
        "print(datetime.datetime.now())\n",
        "print('Downloading Metadata...')\n",
        "\n",
        "while not handle.has_metadata():\n",
        "    time.sleep(1)\n",
        "\n",
        "print('Got Metadata, Starting Torrent Download...')\n",
        "print(\"Starting\", handle.name())\n",
        "\n",
        "while handle.status().state != lt.torrent_status.seeding:\n",
        "    s = handle.status()\n",
        "    state_str = ['queued', 'checking', 'downloading metadata',\n",
        "                 'downloading', 'finished', 'seeding', 'allocating']\n",
        "    print('%.2f%% complete (down: %.1f kb/s up: %.1f kB/s peers: %d) %s ' %\n",
        "          (s.progress * 100, s.download_rate / 1000, s.upload_rate / 1000,\n",
        "           s.num_peers, state_str[s.state]))\n",
        "    time.sleep(5)\n",
        "\n",
        "end = time.time()\n",
        "print(handle.name(), \"COMPLETE\")\n",
        "print(\"Elapsed Time: \", int((end - begin) // 60), \"min :\", int((end - begin) % 60), \"sec\")\n",
        "print(datetime.datetime.now())"
      ],
      "metadata": {
        "colab": {
          "base_uri": "https://localhost:8080/"
        },
        "id": "5rFiVtF_F744",
        "outputId": "82aca47d-9652-4e6d-c619-13ed55a346fb"
      },
      "execution_count": 3,
      "outputs": [
        {
          "output_type": "stream",
          "name": "stdout",
          "text": [
            "magnet:?xt=urn:btih:23112f5ae692658388ebfe0db3973e552b95cad9&dn=saved_models.tar&tr=udp%3a%2f%2ftracker.opentrackr.org%3a1337%2fannounce\n",
            "2024-04-24 09:44:44.589144\n",
            "Downloading Metadata...\n",
            "Got Metadata, Starting Torrent Download...\n",
            "Starting saved_models.tar\n",
            "0.00% complete (down: 12.6 kb/s up: 0.6 kB/s peers: 1) downloading \n",
            "0.32% complete (down: 668.7 kb/s up: 22.7 kB/s peers: 1) downloading \n",
            "1.14% complete (down: 1933.3 kb/s up: 64.0 kB/s peers: 1) downloading \n",
            "2.19% complete (down: 2946.6 kb/s up: 98.4 kB/s peers: 1) downloading \n",
            "3.24% complete (down: 3379.9 kb/s up: 112.4 kB/s peers: 1) downloading \n",
            "3.91% complete (down: 2573.6 kb/s up: 84.2 kB/s peers: 1) downloading \n",
            "4.73% complete (down: 2609.5 kb/s up: 85.9 kB/s peers: 1) downloading \n",
            "5.69% complete (down: 2938.0 kb/s up: 97.9 kB/s peers: 1) downloading \n",
            "6.77% complete (down: 3327.1 kb/s up: 111.5 kB/s peers: 1) downloading \n",
            "7.98% complete (down: 3703.2 kb/s up: 123.9 kB/s peers: 1) downloading \n",
            "9.34% complete (down: 4130.9 kb/s up: 137.8 kB/s peers: 1) downloading \n",
            "10.82% complete (down: 4584.2 kb/s up: 153.4 kB/s peers: 1) downloading \n",
            "12.42% complete (down: 4986.3 kb/s up: 167.4 kB/s peers: 1) downloading \n",
            "14.17% complete (down: 5419.4 kb/s up: 182.0 kB/s peers: 1) downloading \n",
            "15.97% complete (down: 5702.7 kb/s up: 190.4 kB/s peers: 1) downloading \n",
            "17.77% complete (down: 5788.6 kb/s up: 193.7 kB/s peers: 1) downloading \n",
            "19.57% complete (down: 5815.6 kb/s up: 194.4 kB/s peers: 1) downloading \n",
            "21.36% complete (down: 5796.3 kb/s up: 193.6 kB/s peers: 1) downloading \n",
            "23.14% complete (down: 5833.2 kb/s up: 194.6 kB/s peers: 1) downloading \n",
            "24.95% complete (down: 5812.2 kb/s up: 193.9 kB/s peers: 1) downloading \n",
            "26.73% complete (down: 5797.7 kb/s up: 193.6 kB/s peers: 1) downloading \n",
            "28.51% complete (down: 5763.0 kb/s up: 192.2 kB/s peers: 1) downloading \n",
            "30.30% complete (down: 5823.9 kb/s up: 194.3 kB/s peers: 1) downloading \n",
            "31.24% complete (down: 3767.8 kb/s up: 125.2 kB/s peers: 1) downloading \n",
            "32.17% complete (down: 3246.9 kb/s up: 105.3 kB/s peers: 1) downloading \n",
            "33.27% complete (down: 3401.9 kb/s up: 112.3 kB/s peers: 1) downloading \n",
            "34.49% complete (down: 3730.2 kb/s up: 124.1 kB/s peers: 1) downloading \n",
            "35.77% complete (down: 4139.5 kb/s up: 137.5 kB/s peers: 1) downloading \n",
            "35.77% complete (down: 1520.3 kb/s up: 50.3 kB/s peers: 1) downloading \n",
            "35.77% complete (down: 500.2 kb/s up: 16.6 kB/s peers: 1) downloading \n",
            "35.77% complete (down: 165.9 kb/s up: 5.6 kB/s peers: 1) downloading \n",
            "35.77% complete (down: 56.4 kb/s up: 2.0 kB/s peers: 1) downloading \n",
            "35.77% complete (down: 20.5 kb/s up: 0.8 kB/s peers: 1) downloading \n",
            "35.77% complete (down: 8.8 kb/s up: 0.4 kB/s peers: 1) downloading \n",
            "35.77% complete (down: 4.9 kb/s up: 0.3 kB/s peers: 1) downloading \n",
            "35.93% complete (down: 122.9 kb/s up: 3.6 kB/s peers: 1) downloading \n",
            "36.87% complete (down: 2079.1 kb/s up: 66.5 kB/s peers: 1) downloading \n",
            "37.97% complete (down: 3046.6 kb/s up: 100.8 kB/s peers: 1) downloading \n",
            "39.20% complete (down: 3684.2 kb/s up: 123.0 kB/s peers: 1) downloading \n",
            "40.57% complete (down: 4166.6 kb/s up: 139.6 kB/s peers: 1) downloading \n",
            "42.06% complete (down: 4606.2 kb/s up: 154.6 kB/s peers: 1) downloading \n",
            "43.70% complete (down: 5048.3 kb/s up: 169.7 kB/s peers: 1) downloading \n",
            "45.44% complete (down: 5493.3 kb/s up: 183.6 kB/s peers: 1) downloading \n",
            "47.24% complete (down: 5706.5 kb/s up: 191.2 kB/s peers: 1) downloading \n",
            "49.03% complete (down: 5774.5 kb/s up: 192.9 kB/s peers: 1) downloading \n",
            "50.83% complete (down: 5759.0 kb/s up: 191.7 kB/s peers: 1) downloading \n",
            "52.63% complete (down: 5804.0 kb/s up: 193.4 kB/s peers: 1) downloading \n",
            "54.41% complete (down: 5802.3 kb/s up: 193.6 kB/s peers: 1) downloading \n",
            "56.19% complete (down: 5783.3 kb/s up: 192.9 kB/s peers: 1) downloading \n",
            "57.97% complete (down: 5762.1 kb/s up: 192.5 kB/s peers: 1) downloading \n",
            "59.78% complete (down: 5791.9 kb/s up: 193.4 kB/s peers: 1) downloading \n",
            "61.58% complete (down: 5834.9 kb/s up: 195.7 kB/s peers: 1) downloading \n",
            "63.36% complete (down: 5812.8 kb/s up: 194.3 kB/s peers: 1) downloading \n",
            "65.15% complete (down: 5778.3 kb/s up: 193.5 kB/s peers: 1) downloading \n",
            "66.94% complete (down: 5814.4 kb/s up: 194.2 kB/s peers: 1) downloading \n",
            "68.15% complete (down: 4815.7 kb/s up: 159.5 kB/s peers: 1) downloading \n",
            "68.16% complete (down: 1588.3 kb/s up: 52.6 kB/s peers: 1) downloading \n",
            "68.16% complete (down: 532.7 kb/s up: 17.8 kB/s peers: 1) downloading \n",
            "68.17% complete (down: 186.1 kb/s up: 6.3 kB/s peers: 1) downloading \n",
            "68.17% complete (down: 73.0 kb/s up: 2.5 kB/s peers: 1) downloading \n",
            "68.18% complete (down: 35.5 kb/s up: 1.3 kB/s peers: 1) downloading \n",
            "68.18% complete (down: 23.0 kb/s up: 0.9 kB/s peers: 1) downloading \n",
            "68.85% complete (down: 1357.6 kb/s up: 40.8 kB/s peers: 1) downloading \n",
            "69.88% complete (down: 2670.1 kb/s up: 86.9 kB/s peers: 1) downloading \n",
            "71.05% complete (down: 3442.4 kb/s up: 114.3 kB/s peers: 1) downloading \n",
            "72.37% complete (down: 3957.9 kb/s up: 131.7 kB/s peers: 1) downloading \n",
            "73.78% complete (down: 4390.6 kb/s up: 146.1 kB/s peers: 1) downloading \n",
            "75.35% complete (down: 4849.9 kb/s up: 161.9 kB/s peers: 1) downloading \n",
            "75.62% complete (down: 2343.4 kb/s up: 78.1 kB/s peers: 1) downloading \n",
            "75.62% complete (down: 769.9 kb/s up: 25.7 kB/s peers: 1) downloading \n",
            "75.62% complete (down: 254.3 kb/s up: 8.6 kB/s peers: 1) downloading \n",
            "75.62% complete (down: 85.4 kb/s up: 2.9 kB/s peers: 1) downloading \n",
            "75.62% complete (down: 29.9 kb/s up: 1.1 kB/s peers: 1) downloading \n",
            "75.62% complete (down: 11.8 kb/s up: 0.5 kB/s peers: 1) downloading \n",
            "75.62% complete (down: 5.9 kb/s up: 0.3 kB/s peers: 1) downloading \n",
            "75.62% complete (down: 4.0 kb/s up: 0.2 kB/s peers: 1) downloading \n",
            "75.62% complete (down: 3.3 kb/s up: 0.2 kB/s peers: 1) downloading \n",
            "75.62% complete (down: 3.1 kb/s up: 0.2 kB/s peers: 1) downloading \n",
            "75.63% complete (down: 3.1 kb/s up: 0.2 kB/s peers: 1) downloading \n",
            "75.63% complete (down: 3.0 kb/s up: 0.2 kB/s peers: 1) downloading \n",
            "75.63% complete (down: 3.0 kb/s up: 0.2 kB/s peers: 1) downloading \n",
            "75.63% complete (down: 3.0 kb/s up: 0.2 kB/s peers: 1) downloading \n",
            "75.63% complete (down: 3.0 kb/s up: 0.2 kB/s peers: 1) downloading \n",
            "75.63% complete (down: 3.0 kb/s up: 0.2 kB/s peers: 1) downloading \n",
            "75.63% complete (down: 3.0 kb/s up: 0.2 kB/s peers: 1) downloading \n",
            "75.63% complete (down: 3.0 kb/s up: 0.2 kB/s peers: 1) downloading \n",
            "75.63% complete (down: 3.0 kb/s up: 0.2 kB/s peers: 1) downloading \n",
            "75.63% complete (down: 3.1 kb/s up: 0.2 kB/s peers: 1) downloading \n",
            "75.63% complete (down: 3.1 kb/s up: 0.2 kB/s peers: 1) downloading \n",
            "75.63% complete (down: 3.0 kb/s up: 0.2 kB/s peers: 1) downloading \n",
            "75.64% complete (down: 3.0 kb/s up: 0.2 kB/s peers: 1) downloading \n",
            "76.43% complete (down: 1548.3 kb/s up: 46.3 kB/s peers: 1) downloading \n",
            "77.51% complete (down: 2841.3 kb/s up: 93.8 kB/s peers: 1) downloading \n",
            "78.73% complete (down: 3572.4 kb/s up: 118.9 kB/s peers: 1) downloading \n",
            "80.08% complete (down: 4107.8 kb/s up: 136.3 kB/s peers: 1) downloading \n",
            "81.56% complete (down: 4544.3 kb/s up: 151.0 kB/s peers: 1) downloading \n",
            "83.18% complete (down: 4955.5 kb/s up: 165.2 kB/s peers: 1) downloading \n",
            "83.95% complete (down: 3527.6 kb/s up: 116.9 kB/s peers: 1) downloading \n",
            "83.96% complete (down: 1168.0 kb/s up: 38.8 kB/s peers: 1) downloading \n",
            "83.97% complete (down: 394.6 kb/s up: 13.1 kB/s peers: 1) downloading \n",
            "83.97% complete (down: 141.2 kb/s up: 4.7 kB/s peers: 1) downloading \n",
            "83.98% complete (down: 58.1 kb/s up: 2.0 kB/s peers: 1) downloading \n",
            "83.98% complete (down: 30.8 kb/s up: 1.1 kB/s peers: 1) downloading \n",
            "84.25% complete (down: 237.4 kb/s up: 7.1 kB/s peers: 1) downloading \n",
            "85.19% complete (down: 2183.7 kb/s up: 69.0 kB/s peers: 1) downloading \n",
            "86.30% complete (down: 3115.9 kb/s up: 102.5 kB/s peers: 1) downloading \n",
            "87.56% complete (down: 3754.6 kb/s up: 124.9 kB/s peers: 1) downloading \n",
            "88.98% complete (down: 4223.8 kb/s up: 141.3 kB/s peers: 1) downloading \n",
            "90.51% complete (down: 4655.7 kb/s up: 155.2 kB/s peers: 1) downloading \n",
            "91.32% complete (down: 3606.7 kb/s up: 119.8 kB/s peers: 1) downloading \n",
            "91.32% complete (down: 1183.8 kb/s up: 39.4 kB/s peers: 1) downloading \n",
            "91.32% complete (down: 312.7 kb/s up: 10.5 kB/s peers: 1) downloading \n",
            "91.32% complete (down: 104.5 kb/s up: 3.6 kB/s peers: 1) downloading \n",
            "91.32% complete (down: 36.2 kb/s up: 1.3 kB/s peers: 1) downloading \n",
            "91.32% complete (down: 13.8 kb/s up: 0.6 kB/s peers: 1) downloading \n",
            "91.33% complete (down: 6.6 kb/s up: 0.3 kB/s peers: 1) downloading \n",
            "91.33% complete (down: 4.3 kb/s up: 0.3 kB/s peers: 1) downloading \n",
            "91.33% complete (down: 3.5 kb/s up: 0.2 kB/s peers: 1) downloading \n",
            "91.33% complete (down: 3.2 kb/s up: 0.2 kB/s peers: 1) downloading \n",
            "91.33% complete (down: 3.0 kb/s up: 0.2 kB/s peers: 1) downloading \n",
            "91.33% complete (down: 3.0 kb/s up: 0.2 kB/s peers: 1) downloading \n",
            "91.33% complete (down: 3.0 kb/s up: 0.2 kB/s peers: 1) downloading \n",
            "91.33% complete (down: 3.1 kb/s up: 0.2 kB/s peers: 1) downloading \n",
            "91.33% complete (down: 3.0 kb/s up: 0.2 kB/s peers: 1) downloading \n",
            "91.33% complete (down: 3.0 kb/s up: 0.2 kB/s peers: 1) downloading \n",
            "91.33% complete (down: 3.1 kb/s up: 0.2 kB/s peers: 1) downloading \n",
            "91.34% complete (down: 3.0 kb/s up: 0.2 kB/s peers: 1) downloading \n",
            "91.34% complete (down: 3.1 kb/s up: 0.2 kB/s peers: 1) downloading \n",
            "91.34% complete (down: 3.1 kb/s up: 0.2 kB/s peers: 1) downloading \n",
            "91.34% complete (down: 3.0 kb/s up: 0.2 kB/s peers: 1) downloading \n",
            "91.34% complete (down: 3.1 kb/s up: 0.2 kB/s peers: 1) downloading \n",
            "91.34% complete (down: 3.0 kb/s up: 0.2 kB/s peers: 1) downloading \n",
            "91.34% complete (down: 3.1 kb/s up: 0.2 kB/s peers: 1) downloading \n",
            "91.34% complete (down: 3.0 kb/s up: 0.2 kB/s peers: 1) downloading \n",
            "91.34% complete (down: 3.1 kb/s up: 0.2 kB/s peers: 1) downloading \n",
            "91.34% complete (down: 3.0 kb/s up: 0.2 kB/s peers: 1) downloading \n",
            "91.34% complete (down: 2.9 kb/s up: 0.2 kB/s peers: 1) downloading \n",
            "91.35% complete (down: 3.0 kb/s up: 0.2 kB/s peers: 1) downloading \n",
            "91.35% complete (down: 3.0 kb/s up: 0.2 kB/s peers: 1) downloading \n",
            "91.69% complete (down: 1005.4 kb/s up: 30.2 kB/s peers: 1) downloading \n",
            "92.70% complete (down: 2529.6 kb/s up: 82.4 kB/s peers: 1) downloading \n",
            "93.84% complete (down: 3288.7 kb/s up: 109.3 kB/s peers: 1) downloading \n",
            "95.10% complete (down: 3874.7 kb/s up: 129.2 kB/s peers: 1) downloading \n",
            "96.50% complete (down: 4283.3 kb/s up: 143.1 kB/s peers: 1) downloading \n",
            "98.03% complete (down: 4758.9 kb/s up: 160.2 kB/s peers: 1) downloading \n",
            "99.65% complete (down: 5141.8 kb/s up: 167.1 kB/s peers: 1) downloading \n",
            "saved_models.tar COMPLETE\n",
            "Elapsed Time:  13 min : 14 sec\n",
            "2024-04-24 09:57:59.411450\n"
          ]
        }
      ]
    },
    {
      "cell_type": "code",
      "source": [
        "!mv \"/content/Torrent/saved_models.tar\" \"/content/saliency/SimpleNet/\""
      ],
      "metadata": {
        "id": "caOJLnrEqxQL"
      },
      "execution_count": 4,
      "outputs": []
    },
    {
      "cell_type": "code",
      "source": [
        "%cd SimpleNet"
      ],
      "metadata": {
        "id": "Udgo76EmH_OR",
        "colab": {
          "base_uri": "https://localhost:8080/"
        },
        "outputId": "99674d8a-cc3f-4e35-8608-33212a5d3f23"
      },
      "execution_count": 5,
      "outputs": [
        {
          "output_type": "stream",
          "name": "stdout",
          "text": [
            "/content/saliency/SimpleNet\n"
          ]
        }
      ]
    },
    {
      "cell_type": "code",
      "source": [
        "!tar -xvf \"saved_models.tar\" -C \"./\""
      ],
      "metadata": {
        "colab": {
          "base_uri": "https://localhost:8080/"
        },
        "id": "fOLo22XdrqOU",
        "outputId": "dd2b0cea-73a1-422e-a6a6-6a09f815948c"
      },
      "execution_count": 6,
      "outputs": [
        {
          "output_type": "stream",
          "name": "stdout",
          "text": [
            "./saved_models/\n",
            "./saved_models/cat_pnas.pt\n",
            "./saved_models/mit_pnas.pt\n",
            "./saved_models/salicon_pnas.pt\n",
            "./saved_models/salicon_densenet.pt\n"
          ]
        }
      ]
    },
    {
      "cell_type": "code",
      "source": [
        "!pip install -qq pytorch_ssim"
      ],
      "metadata": {
        "colab": {
          "base_uri": "https://localhost:8080/"
        },
        "id": "2E5r9CfTI1sA",
        "outputId": "d45521a7-236e-44fd-d45a-f63e5117bab2"
      },
      "execution_count": 7,
      "outputs": [
        {
          "output_type": "stream",
          "name": "stdout",
          "text": [
            "  Preparing metadata (setup.py) ... \u001b[?25l\u001b[?25hdone\n",
            "  Building wheel for pytorch_ssim (setup.py) ... \u001b[?25l\u001b[?25hdone\n",
            "\u001b[33mDEPRECATION: libtorrent 2.0.5-build-libtorrent-rasterbar-qrM5vM-libtorrent-rasterbar-2.0.5-bindings-python has a non-standard version number. pip 24.1 will enforce this behaviour change. A possible replacement is to upgrade to a newer version of libtorrent or contact the author to suggest that they release a version with a conforming version number. Discussion can be found at https://github.com/pypa/pip/issues/12063\u001b[0m\u001b[33m\n",
            "\u001b[0m\u001b[33mWARNING: Running pip as the 'root' user can result in broken permissions and conflicting behaviour with the system package manager. It is recommended to use a virtual environment instead: https://pip.pypa.io/warnings/venv\u001b[0m\u001b[33m\n",
            "\u001b[0m"
          ]
        }
      ]
    },
    {
      "cell_type": "code",
      "source": [
        "!python test.py --val_img_dir /content/saliency/images --results_dir /content/saliency/results --model_val_path /content/saliency/SimpleNet/saved_models/salicon_densenet.pt"
      ],
      "metadata": {
        "colab": {
          "base_uri": "https://localhost:8080/"
        },
        "id": "mdPyGoRyCyBO",
        "outputId": "aa2e904e-c8a7-43a0-f0c9-18b9e1fb3189"
      },
      "execution_count": 17,
      "outputs": [
        {
          "output_type": "stream",
          "name": "stdout",
          "text": [
            "DenseNet Model\n",
            "/usr/local/lib/python3.10/dist-packages/torchvision/models/_utils.py:208: UserWarning: The parameter 'pretrained' is deprecated since 0.13 and may be removed in the future, please use 'weights' instead.\n",
            "  warnings.warn(\n",
            "/usr/local/lib/python3.10/dist-packages/torchvision/models/_utils.py:223: UserWarning: Arguments other than a weight enum or `None` for 'weights' are deprecated since 0.13 and may be removed in the future. The current behavior is equivalent to passing `weights=DenseNet161_Weights.IMAGENET1K_V1`. You can also use `weights=DenseNet161_Weights.DEFAULT` to get the most up-to-date weights.\n",
            "  warnings.warn(msg)\n",
            "/usr/local/lib/python3.10/dist-packages/torch/utils/data/dataloader.py:558: UserWarning: This DataLoader will create 4 worker processes in total. Our suggested max number of worker in current system is 2, which is smaller than what this DataLoader is going to create. Please be aware that excessive worker creation might get DataLoader running slow or even freeze, lower the worker number to avoid potential slowness/freeze if necessary.\n",
            "  warnings.warn(_create_warning_msg(\n",
            "  0% 0/10 [00:00<?, ?it/s]/usr/lib/python3.10/multiprocessing/popen_fork.py:66: RuntimeWarning: os.fork() was called. os.fork() is incompatible with multithreaded code, and JAX is multithreaded, so this will likely lead to a deadlock.\n",
            "  self.pid = os.fork()\n",
            "pred_map.shape: (256, 256) sz: [tensor([640]), tensor([480])]\n",
            " 10% 1/10 [00:00<00:05,  1.61it/s]pred_map.shape: (256, 256) sz: [tensor([640]), tensor([480])]\n",
            "pred_map.shape: (256, 256) sz: [tensor([640]), tensor([480])]\n",
            " 30% 3/10 [00:00<00:01,  4.83it/s]pred_map.shape: (256, 256) sz: [tensor([640]), tensor([480])]\n",
            "pred_map.shape: (256, 256) sz: [tensor([640]), tensor([480])]\n",
            " 50% 5/10 [00:00<00:00,  7.61it/s]pred_map.shape: (256, 256) sz: [tensor([640]), tensor([480])]\n",
            "pred_map.shape: (256, 256) sz: [tensor([640]), tensor([480])]\n",
            " 70% 7/10 [00:00<00:00, 10.23it/s]pred_map.shape: (256, 256) sz: [tensor([640]), tensor([480])]\n",
            "pred_map.shape: (256, 256) sz: [tensor([640]), tensor([480])]\n",
            " 90% 9/10 [00:01<00:00, 12.45it/s]pred_map.shape: (256, 256) sz: [tensor([640]), tensor([480])]\n",
            "100% 10/10 [00:01<00:00,  8.55it/s]\n"
          ]
        }
      ]
    },
    {
      "cell_type": "code",
      "source": [],
      "metadata": {
        "id": "1YBPQd2TJ9_6"
      },
      "execution_count": null,
      "outputs": []
    },
    {
      "cell_type": "code",
      "source": [],
      "metadata": {
        "id": "UpMkOzOULNkq"
      },
      "execution_count": null,
      "outputs": []
    }
  ]
}